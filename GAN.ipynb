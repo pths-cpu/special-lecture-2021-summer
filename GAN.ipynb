{
 "cells": [
  {
   "cell_type": "code",
   "execution_count": 1,
   "metadata": {},
   "outputs": [
    {
     "name": "stderr",
     "output_type": "stream",
     "text": [
      "Matplotlib created a temporary config/cache directory at /tmp/matplotlib-wpvk5wmo because the default path (/.config/matplotlib) is not a writable directory; it is highly recommended to set the MPLCONFIGDIR environment variable to a writable directory, in particular to speed up the import of Matplotlib and to better support multiprocessing.\n"
     ]
    }
   ],
   "source": [
    "import IPython.display as display\n",
    "import matplotlib.pyplot as plt\n",
    "import numpy as np\n",
    "import tensorflow as tf\n",
    "import tensorflow.keras as keras\n",
    "import time\n",
    "tf.random.set_seed(0)"
   ]
  },
  {
   "cell_type": "markdown",
   "metadata": {},
   "source": [
    "# 이미지\n",
    "이 문서에서는 GAN을 이용하여 MNIST의 데이터와 비슷한 이미지를 생성하는 모델을 다룬다."
   ]
  },
  {
   "cell_type": "code",
   "execution_count": 2,
   "metadata": {},
   "outputs": [],
   "source": [
    "(x_train, y_train), _ = keras.datasets.mnist.load_data()\n",
    "x_train = x_train.reshape(-1, 28, 28, 1).astype('float32')\n",
    "x_train = (x_train - 127.5) / 127.5"
   ]
  },
  {
   "cell_type": "markdown",
   "metadata": {},
   "source": [
    "# GAN\n",
    "GAN은 generator와 discriminator가 서로 경쟁하며 학습하여 생성모델을 학습하는 네트워크이다."
   ]
  },
  {
   "cell_type": "markdown",
   "metadata": {},
   "source": [
    "## Generator\n",
    "임의의 크기가 100인 벡터로부터 (28, 28, 1) 크기의 이미지를 생성하는 모델이다."
   ]
  },
  {
   "cell_type": "code",
   "execution_count": 3,
   "metadata": {},
   "outputs": [],
   "source": [
    "def build_generator():\n",
    "    input = keras.layers.Input((100,))\n",
    "    x = keras.layers.Dense(7 * 7 * 256, use_bias=False)(input)\n",
    "    x = keras.layers.BatchNormalization()(x)\n",
    "    x = keras.layers.LeakyReLU()(x)\n",
    "\n",
    "    x = keras.layers.Reshape((7, 7, 256))(x)\n",
    "    x = keras.layers.Conv2DTranspose(128, (5, 5), strides=(1, 1), padding='same', use_bias=False)(x)\n",
    "    x = keras.layers.BatchNormalization()(x)\n",
    "    x = keras.layers.LeakyReLU()(x)\n",
    "\n",
    "    x = keras.layers.Conv2DTranspose(64, (5, 5), strides=(2, 2), padding='same', use_bias=False)(x)\n",
    "    x = keras.layers.BatchNormalization()(x)\n",
    "    x = keras.layers.LeakyReLU()(x)\n",
    "  \n",
    "    output = keras.layers.Conv2DTranspose(1, (5, 5), strides=(2, 2), padding='same', use_bias=False, activation='tanh')(x)\n",
    "\n",
    "    return keras.Model(input, output)"
   ]
  },
  {
   "cell_type": "code",
   "execution_count": 4,
   "metadata": {},
   "outputs": [
    {
     "name": "stdout",
     "output_type": "stream",
     "text": [
      "Model: \"model\"\n",
      "_________________________________________________________________\n",
      "Layer (type)                 Output Shape              Param #   \n",
      "=================================================================\n",
      "input_1 (InputLayer)         [(None, 100)]             0         \n",
      "_________________________________________________________________\n",
      "dense (Dense)                (None, 12544)             1254400   \n",
      "_________________________________________________________________\n",
      "batch_normalization (BatchNo (None, 12544)             50176     \n",
      "_________________________________________________________________\n",
      "leaky_re_lu (LeakyReLU)      (None, 12544)             0         \n",
      "_________________________________________________________________\n",
      "reshape (Reshape)            (None, 7, 7, 256)         0         \n",
      "_________________________________________________________________\n",
      "conv2d_transpose (Conv2DTran (None, 7, 7, 128)         819200    \n",
      "_________________________________________________________________\n",
      "batch_normalization_1 (Batch (None, 7, 7, 128)         512       \n",
      "_________________________________________________________________\n",
      "leaky_re_lu_1 (LeakyReLU)    (None, 7, 7, 128)         0         \n",
      "_________________________________________________________________\n",
      "conv2d_transpose_1 (Conv2DTr (None, 14, 14, 64)        204800    \n",
      "_________________________________________________________________\n",
      "batch_normalization_2 (Batch (None, 14, 14, 64)        256       \n",
      "_________________________________________________________________\n",
      "leaky_re_lu_2 (LeakyReLU)    (None, 14, 14, 64)        0         \n",
      "_________________________________________________________________\n",
      "conv2d_transpose_2 (Conv2DTr (None, 28, 28, 1)         1600      \n",
      "=================================================================\n",
      "Total params: 2,330,944\n",
      "Trainable params: 2,305,472\n",
      "Non-trainable params: 25,472\n",
      "_________________________________________________________________\n"
     ]
    }
   ],
   "source": [
    "generator = build_generator()\n",
    "generator.summary()"
   ]
  },
  {
   "cell_type": "markdown",
   "metadata": {},
   "source": [
    "## Discriminator\n",
    "(28, 28, 1) 크기의 이미지를 입력받아 해당이미지가 실제 이미지인지 generator가 생성한 이미지인지 구분하는 모델이다."
   ]
  },
  {
   "cell_type": "code",
   "execution_count": 5,
   "metadata": {},
   "outputs": [],
   "source": [
    "def build_discriminator():\n",
    "    input = keras.layers.Input((28, 28, 1))\n",
    "    x = keras.layers.Conv2D(64, (5, 5), strides=(2, 2), padding='same')(input)\n",
    "    x = keras.layers.LeakyReLU()(x)\n",
    "    x = keras.layers.Dropout(0.3)(x)\n",
    "\n",
    "    x = keras.layers.Conv2D(128, (5, 5), strides=(2, 2), padding='same')(x)\n",
    "    x = keras.layers.LeakyReLU()(x)\n",
    "    x = keras.layers.Dropout(0.3)(x)\n",
    "\n",
    "    x = keras.layers.Flatten()(x)\n",
    "    output = keras.layers.Dense(1, activation='sigmoid')(x)\n",
    "    return keras.Model(input, output)"
   ]
  },
  {
   "cell_type": "code",
   "execution_count": 6,
   "metadata": {},
   "outputs": [
    {
     "name": "stdout",
     "output_type": "stream",
     "text": [
      "Model: \"model_1\"\n",
      "_________________________________________________________________\n",
      "Layer (type)                 Output Shape              Param #   \n",
      "=================================================================\n",
      "input_2 (InputLayer)         [(None, 28, 28, 1)]       0         \n",
      "_________________________________________________________________\n",
      "conv2d (Conv2D)              (None, 14, 14, 64)        1664      \n",
      "_________________________________________________________________\n",
      "leaky_re_lu_3 (LeakyReLU)    (None, 14, 14, 64)        0         \n",
      "_________________________________________________________________\n",
      "dropout (Dropout)            (None, 14, 14, 64)        0         \n",
      "_________________________________________________________________\n",
      "conv2d_1 (Conv2D)            (None, 7, 7, 128)         204928    \n",
      "_________________________________________________________________\n",
      "leaky_re_lu_4 (LeakyReLU)    (None, 7, 7, 128)         0         \n",
      "_________________________________________________________________\n",
      "dropout_1 (Dropout)          (None, 7, 7, 128)         0         \n",
      "_________________________________________________________________\n",
      "flatten (Flatten)            (None, 6272)              0         \n",
      "_________________________________________________________________\n",
      "dense_1 (Dense)              (None, 1)                 6273      \n",
      "=================================================================\n",
      "Total params: 212,865\n",
      "Trainable params: 212,865\n",
      "Non-trainable params: 0\n",
      "_________________________________________________________________\n"
     ]
    }
   ],
   "source": [
    "discriminator = build_discriminator()\n",
    "discriminator.compile(optimizer=keras.optimizers.Adam(0.0001), loss='binary_crossentropy')\n",
    "discriminator.summary()"
   ]
  },
  {
   "cell_type": "markdown",
   "metadata": {},
   "source": [
    "## GAN\n",
    "Generator와 discriminator를 이어붙여 GAN을 구성한다. 이때, `discriminator`를 학습 불가능하게 설정하는 것은 `gan`을 이용해서는 `generator`만 학습하기 때문이다."
   ]
  },
  {
   "cell_type": "code",
   "execution_count": 7,
   "metadata": {},
   "outputs": [
    {
     "name": "stdout",
     "output_type": "stream",
     "text": [
      "Model: \"model_2\"\n",
      "_________________________________________________________________\n",
      "Layer (type)                 Output Shape              Param #   \n",
      "=================================================================\n",
      "input_3 (InputLayer)         [(None, 100)]             0         \n",
      "_________________________________________________________________\n",
      "model (Functional)           (None, 28, 28, 1)         2330944   \n",
      "_________________________________________________________________\n",
      "model_1 (Functional)         (None, 1)                 212865    \n",
      "=================================================================\n",
      "Total params: 2,543,809\n",
      "Trainable params: 2,305,472\n",
      "Non-trainable params: 238,337\n",
      "_________________________________________________________________\n"
     ]
    }
   ],
   "source": [
    "gan_input = keras.layers.Input((100,))\n",
    "generated = generator(gan_input)\n",
    "validity = discriminator(generated)\n",
    "\n",
    "gan = keras.Model(gan_input, validity)\n",
    "discriminator.trainable = False\n",
    "gan.compile(optimizer=keras.optimizers.Adam(0.0001), loss='binary_crossentropy')\n",
    "gan.summary()"
   ]
  },
  {
   "cell_type": "markdown",
   "metadata": {},
   "source": [
    "학습 전 generator를 이용하여 생성한 이미지이다."
   ]
  },
  {
   "cell_type": "code",
   "execution_count": 8,
   "metadata": {},
   "outputs": [
    {
     "data": {
      "image/png": "[encoded data removed]",
      "text/plain": [
       "<Figure size 432x288 with 1 Axes>"
      ]
     },
     "metadata": {
      "needs_background": "light"
     },
     "output_type": "display_data"
    }
   ],
   "source": [
    "z = tf.random.normal([1, 100])\n",
    "img = generator(z, training=False)\n",
    "plt.imshow(img[0, :, :, 0] * 127.5 + 127.5, cmap=plt.cm.gray)\n",
    "plt.show()"
   ]
  },
  {
   "cell_type": "markdown",
   "metadata": {},
   "source": [
    "## 학습"
   ]
  },
  {
   "cell_type": "code",
   "execution_count": 9,
   "metadata": {},
   "outputs": [],
   "source": [
    "BATCH_SIZE = 256\n",
    "EPOCHS = 50"
   ]
  },
  {
   "cell_type": "markdown",
   "metadata": {},
   "source": [
    "학습은 앞서 로드한 MNIST 데이터셋을 이용한다. MNIST 데이터를 임의로 섞고 `BATCH_SIZE`개씩 쪼갠다."
   ]
  },
  {
   "cell_type": "code",
   "execution_count": 10,
   "metadata": {},
   "outputs": [],
   "source": [
    "train_set = tf.data.Dataset.from_tensor_slices(x_train).shuffle(len(x_train)).batch(BATCH_SIZE)"
   ]
  },
  {
   "cell_type": "markdown",
   "metadata": {},
   "source": [
    "학습이 진행됨에 있어서 동일한 입력을 가지고 매 epoch마다 생성모델의 학습정도를 확인할 것이다."
   ]
  },
  {
   "cell_type": "code",
   "execution_count": 11,
   "metadata": {},
   "outputs": [],
   "source": [
    "test_z = tf.random.normal([10, 100])"
   ]
  },
  {
   "cell_type": "markdown",
   "metadata": {},
   "source": [
    "학습은 discriminator와 generator 각각 진행한다. Discriminator는 실제 이미지와 generator가 생성해낸 이미지를 잘 구분하도록 학습되고, generator는 discriminator를 속이도록 학습된다."
   ]
  },
  {
   "cell_type": "code",
   "execution_count": 12,
   "metadata": {
    "scrolled": true
   },
   "outputs": [
    {
     "name": "stdout",
     "output_type": "stream",
     "text": [
      "Time for epoch 50 is 20.020480155944824 sec - d_loss: 1.3300786647390812 g_loss: 0.8134486502789436\n"
     ]
    },
    {
     "data": {
      "image/png": "[encoded data removed]",
      "text/plain": [
       "<Figure size 1440x144 with 10 Axes>"
      ]
     },
     "metadata": {
      "needs_background": "light"
     },
     "output_type": "display_data"
    }
   ],
   "source": [
    "for epoch in range(EPOCHS):\n",
    "    start = time.time()\n",
    "    d_losses = []\n",
    "    g_losses = []\n",
    "    for images in train_set:\n",
    "        # generate label\n",
    "        batch_size = len(images)\n",
    "        label_real = tf.ones((batch_size, 1))\n",
    "        label_fake = tf.zeros_like(label_real)\n",
    "\n",
    "        # train discriminator\n",
    "        z = tf.random.normal((batch_size, 100))\n",
    "        generated_image = generator.predict(z)\n",
    "        d_loss_real = discriminator.train_on_batch(images, label_real)\n",
    "        d_loss_fake = discriminator.train_on_batch(generated_image, label_fake)\n",
    "        d_loss = d_loss_real + d_loss_fake\n",
    "        d_losses.append(d_loss)\n",
    "\n",
    "        # train generator\n",
    "        z = tf.random.normal((batch_size, 100))\n",
    "        g_loss = gan.train_on_batch(z, label_real)\n",
    "        g_losses.append(g_loss)\n",
    "    # show progress\n",
    "    display.clear_output(wait=True)\n",
    "    print ('Time for epoch {} is {} sec - d_loss: {} g_loss: {}'.format(epoch + 1, time.time()-start, np.mean(d_losses), np.mean(g_losses)))\n",
    "    generated_images = generator.predict(test_z)\n",
    "    plt.figure(figsize=(20, 2))\n",
    "    for i, img in enumerate(generated_images):\n",
    "        plt.subplot(1, 10, i + 1)\n",
    "        plt.imshow(img[:, :, 0] * 127.5 + 127.5, cmap='gray')\n",
    "        plt.axis('off')\n",
    "    plt.show()"
   ]
  },
  {
   "cell_type": "markdown",
   "metadata": {},
   "source": [
    "# Conditional-GAN\n",
    "Generator가 임의의 이미지를 생성하는 것이 아니라, 특정 조건의 이미지를 생성하도록 할 수도 있다.\n",
    "아래는 특정 숫자를 생성하는 모델을 학습하는 것이다.\n",
    "네트워크의 입력부분을 제외하고, 나머지 부분은 앞서 다룬 GAN과 같다."
   ]
  },
  {
   "cell_type": "markdown",
   "metadata": {},
   "source": [
    "## Generator\n",
    "입력으로 하나의 랜덤벡터와 생성하고자 하는 라벨을 받는다."
   ]
  },
  {
   "cell_type": "code",
   "execution_count": 13,
   "metadata": {},
   "outputs": [],
   "source": [
    "def build_labeled_generator():\n",
    "    latent = keras.layers.Input((100,))\n",
    "    label = keras.layers.Input((1,), dtype='int32')\n",
    "    label_embeded = keras.layers.Embedding(10, 100)(label)\n",
    "    input = keras.layers.multiply([latent, label_embeded])\n",
    "    \n",
    "    x = keras.layers.Dense(7 * 7 * 256, use_bias=False)(input)\n",
    "    x = keras.layers.BatchNormalization()(x)\n",
    "    x = keras.layers.LeakyReLU()(x)\n",
    "\n",
    "    x = keras.layers.Reshape((7, 7, 256))(x)\n",
    "    x = keras.layers.Conv2DTranspose(128, (5, 5), strides=(1, 1), padding='same', use_bias=False)(x)\n",
    "    x = keras.layers.BatchNormalization()(x)\n",
    "    x = keras.layers.LeakyReLU()(x)\n",
    "\n",
    "    x = keras.layers.Conv2DTranspose(64, (5, 5), strides=(2, 2), padding='same', use_bias=False)(x)\n",
    "    x = keras.layers.BatchNormalization()(x)\n",
    "    x = keras.layers.LeakyReLU()(x)\n",
    "  \n",
    "    output = keras.layers.Conv2DTranspose(1, (5, 5), strides=(2, 2), padding='same', use_bias=False, activation='tanh')(x)\n",
    "\n",
    "    return keras.Model([latent, label], output)"
   ]
  },
  {
   "cell_type": "code",
   "execution_count": 14,
   "metadata": {},
   "outputs": [
    {
     "name": "stdout",
     "output_type": "stream",
     "text": [
      "Model: \"model_3\"\n",
      "__________________________________________________________________________________________________\n",
      "Layer (type)                    Output Shape         Param #     Connected to                     \n",
      "==================================================================================================\n",
      "input_5 (InputLayer)            [(None, 1)]          0                                            \n",
      "__________________________________________________________________________________________________\n",
      "input_4 (InputLayer)            [(None, 100)]        0                                            \n",
      "__________________________________________________________________________________________________\n",
      "embedding (Embedding)           (None, 1, 100)       1000        input_5[0][0]                    \n",
      "__________________________________________________________________________________________________\n",
      "multiply (Multiply)             (None, 1, 100)       0           input_4[0][0]                    \n",
      "                                                                 embedding[0][0]                  \n",
      "__________________________________________________________________________________________________\n",
      "dense_2 (Dense)                 (None, 1, 12544)     1254400     multiply[0][0]                   \n",
      "__________________________________________________________________________________________________\n",
      "batch_normalization_3 (BatchNor (None, 1, 12544)     50176       dense_2[0][0]                    \n",
      "__________________________________________________________________________________________________\n",
      "leaky_re_lu_5 (LeakyReLU)       (None, 1, 12544)     0           batch_normalization_3[0][0]      \n",
      "__________________________________________________________________________________________________\n",
      "reshape_1 (Reshape)             (None, 7, 7, 256)    0           leaky_re_lu_5[0][0]              \n",
      "__________________________________________________________________________________________________\n",
      "conv2d_transpose_3 (Conv2DTrans (None, 7, 7, 128)    819200      reshape_1[0][0]                  \n",
      "__________________________________________________________________________________________________\n",
      "batch_normalization_4 (BatchNor (None, 7, 7, 128)    512         conv2d_transpose_3[0][0]         \n",
      "__________________________________________________________________________________________________\n",
      "leaky_re_lu_6 (LeakyReLU)       (None, 7, 7, 128)    0           batch_normalization_4[0][0]      \n",
      "__________________________________________________________________________________________________\n",
      "conv2d_transpose_4 (Conv2DTrans (None, 14, 14, 64)   204800      leaky_re_lu_6[0][0]              \n",
      "__________________________________________________________________________________________________\n",
      "batch_normalization_5 (BatchNor (None, 14, 14, 64)   256         conv2d_transpose_4[0][0]         \n",
      "__________________________________________________________________________________________________\n",
      "leaky_re_lu_7 (LeakyReLU)       (None, 14, 14, 64)   0           batch_normalization_5[0][0]      \n",
      "__________________________________________________________________________________________________\n",
      "conv2d_transpose_5 (Conv2DTrans (None, 28, 28, 1)    1600        leaky_re_lu_7[0][0]              \n",
      "==================================================================================================\n",
      "Total params: 2,331,944\n",
      "Trainable params: 2,306,472\n",
      "Non-trainable params: 25,472\n",
      "__________________________________________________________________________________________________\n"
     ]
    }
   ],
   "source": [
    "labeled_generator = build_labeled_generator()\n",
    "labeled_generator.summary()"
   ]
  },
  {
   "cell_type": "markdown",
   "metadata": {},
   "source": [
    "## Discriminator\n",
    "이미지 하나와 해당 이미지의 라벨을 받는다.\n",
    "Generator와 마찬가지로 입력부분을 제외하고는 기존과 같다."
   ]
  },
  {
   "cell_type": "code",
   "execution_count": 15,
   "metadata": {},
   "outputs": [],
   "source": [
    "def build_labeled_discriminator():\n",
    "    image = keras.layers.Input((28, 28, 1))\n",
    "    label = keras.layers.Input((1,), dtype='int32')\n",
    "    label_embeded = keras.layers.Embedding(10, 28 * 28)(label)\n",
    "    label_embeded = keras.layers.Reshape((28, 28, 1))(label_embeded)\n",
    "    input = keras.layers.multiply([image, label_embeded])\n",
    "\n",
    "    x = keras.layers.Conv2D(64, (5, 5), strides=(2, 2), padding='same')(input)\n",
    "    x = keras.layers.LeakyReLU()(x)\n",
    "    x = keras.layers.Dropout(0.3)(x)\n",
    "\n",
    "    x = keras.layers.Conv2D(128, (5, 5), strides=(2, 2), padding='same')(x)\n",
    "    x = keras.layers.LeakyReLU()(x)\n",
    "    x = keras.layers.Dropout(0.3)(x)\n",
    "\n",
    "    x = keras.layers.Flatten()(x)\n",
    "    output = keras.layers.Dense(1, activation='sigmoid')(x)\n",
    "    return keras.Model([image, label], output)"
   ]
  },
  {
   "cell_type": "code",
   "execution_count": 16,
   "metadata": {},
   "outputs": [
    {
     "name": "stdout",
     "output_type": "stream",
     "text": [
      "Model: \"model_4\"\n",
      "__________________________________________________________________________________________________\n",
      "Layer (type)                    Output Shape         Param #     Connected to                     \n",
      "==================================================================================================\n",
      "input_7 (InputLayer)            [(None, 1)]          0                                            \n",
      "__________________________________________________________________________________________________\n",
      "embedding_1 (Embedding)         (None, 1, 784)       7840        input_7[0][0]                    \n",
      "__________________________________________________________________________________________________\n",
      "input_6 (InputLayer)            [(None, 28, 28, 1)]  0                                            \n",
      "__________________________________________________________________________________________________\n",
      "reshape_2 (Reshape)             (None, 28, 28, 1)    0           embedding_1[0][0]                \n",
      "__________________________________________________________________________________________________\n",
      "multiply_1 (Multiply)           (None, 28, 28, 1)    0           input_6[0][0]                    \n",
      "                                                                 reshape_2[0][0]                  \n",
      "__________________________________________________________________________________________________\n",
      "conv2d_2 (Conv2D)               (None, 14, 14, 64)   1664        multiply_1[0][0]                 \n",
      "__________________________________________________________________________________________________\n",
      "leaky_re_lu_8 (LeakyReLU)       (None, 14, 14, 64)   0           conv2d_2[0][0]                   \n",
      "__________________________________________________________________________________________________\n",
      "dropout_2 (Dropout)             (None, 14, 14, 64)   0           leaky_re_lu_8[0][0]              \n",
      "__________________________________________________________________________________________________\n",
      "conv2d_3 (Conv2D)               (None, 7, 7, 128)    204928      dropout_2[0][0]                  \n",
      "__________________________________________________________________________________________________\n",
      "leaky_re_lu_9 (LeakyReLU)       (None, 7, 7, 128)    0           conv2d_3[0][0]                   \n",
      "__________________________________________________________________________________________________\n",
      "dropout_3 (Dropout)             (None, 7, 7, 128)    0           leaky_re_lu_9[0][0]              \n",
      "__________________________________________________________________________________________________\n",
      "flatten_1 (Flatten)             (None, 6272)         0           dropout_3[0][0]                  \n",
      "__________________________________________________________________________________________________\n",
      "dense_3 (Dense)                 (None, 1)            6273        flatten_1[0][0]                  \n",
      "==================================================================================================\n",
      "Total params: 220,705\n",
      "Trainable params: 220,705\n",
      "Non-trainable params: 0\n",
      "__________________________________________________________________________________________________\n"
     ]
    }
   ],
   "source": [
    "labeled_discriminator = build_labeled_discriminator()\n",
    "labeled_discriminator.compile(optimizer=keras.optimizers.Adam(0.0001), loss='binary_crossentropy')\n",
    "labeled_discriminator.summary()"
   ]
  },
  {
   "cell_type": "markdown",
   "metadata": {},
   "source": [
    "## GAN\n",
    "Generator와 discriminator를 이용하여 GAN을 구성한다.\n",
    "이때도, 입력에 주의하여야 한다."
   ]
  },
  {
   "cell_type": "code",
   "execution_count": 17,
   "metadata": {},
   "outputs": [
    {
     "name": "stdout",
     "output_type": "stream",
     "text": [
      "Model: \"model_5\"\n",
      "__________________________________________________________________________________________________\n",
      "Layer (type)                    Output Shape         Param #     Connected to                     \n",
      "==================================================================================================\n",
      "input_8 (InputLayer)            [(None, 100)]        0                                            \n",
      "__________________________________________________________________________________________________\n",
      "input_9 (InputLayer)            [(None, 1)]          0                                            \n",
      "__________________________________________________________________________________________________\n",
      "model_3 (Functional)            (None, 28, 28, 1)    2331944     input_8[0][0]                    \n",
      "                                                                 input_9[0][0]                    \n",
      "__________________________________________________________________________________________________\n",
      "model_4 (Functional)            (None, 1)            220705      model_3[0][0]                    \n",
      "                                                                 input_9[0][0]                    \n",
      "==================================================================================================\n",
      "Total params: 2,552,649\n",
      "Trainable params: 2,306,472\n",
      "Non-trainable params: 246,177\n",
      "__________________________________________________________________________________________________\n"
     ]
    }
   ],
   "source": [
    "gan_input = keras.layers.Input((100,))\n",
    "label_input = keras.layers.Input((1,), dtype='int32')\n",
    "generated = labeled_generator([gan_input, label_input])\n",
    "validity = labeled_discriminator([generated, label_input])\n",
    "\n",
    "labeled_gan = keras.Model([gan_input, label_input], validity)\n",
    "labeled_discriminator.trainable = False\n",
    "labeled_gan.compile(optimizer=keras.optimizers.Adam(0.0001), loss='binary_crossentropy')\n",
    "labeled_gan.summary()"
   ]
  },
  {
   "cell_type": "markdown",
   "metadata": {},
   "source": [
    "## 학습\n",
    "앞서와 다르게, 이미지와 해당이미지의 라벨(`y_train`)을 같이 제공해야 한다."
   ]
  },
  {
   "cell_type": "code",
   "execution_count": 18,
   "metadata": {},
   "outputs": [],
   "source": [
    "train_dataset = tf.data.Dataset.from_tensor_slices((x_train, y_train)).shuffle(len(x_train)).batch(BATCH_SIZE)"
   ]
  },
  {
   "cell_type": "markdown",
   "metadata": {},
   "source": [
    "학습이 진행됨에 있어서 동일한 입력을 가지고 매 epoch마다 생성모델의 학습정도를 확인할 것이다.\n",
    "이때도 마찬가지로, 라벨을 지정해야 한다."
   ]
  },
  {
   "cell_type": "code",
   "execution_count": 19,
   "metadata": {},
   "outputs": [],
   "source": [
    "test_z = tf.random.normal([10, 100])\n",
    "test_label = tf.expand_dims(tf.range(10), axis=-1)"
   ]
  },
  {
   "cell_type": "markdown",
   "metadata": {},
   "source": [
    "학습은 앞서와 같이 진행된다. 다만 각 네트워크의 입력에 라벨이 추가된다는 것만 주의하자."
   ]
  },
  {
   "cell_type": "code",
   "execution_count": 20,
   "metadata": {},
   "outputs": [
    {
     "name": "stdout",
     "output_type": "stream",
     "text": [
      "Time for epoch 50 is 23.91319966316223 sec - d_loss: 1.3838456501352026 g_loss: 0.6932789939515134\n"
     ]
    },
    {
     "data": {
      "image/png": "[encoded data removed]",
      "text/plain": [
       "<Figure size 1440x144 with 10 Axes>"
      ]
     },
     "metadata": {
      "needs_background": "light"
     },
     "output_type": "display_data"
    }
   ],
   "source": [
    "for epoch in range(EPOCHS):\n",
    "    start = time.time()\n",
    "    d_losses = []\n",
    "    g_losses = []\n",
    "    for images, labels in train_dataset:\n",
    "        # generate label\n",
    "        batch_size = len(images)\n",
    "        label_real = tf.ones((batch_size, 1))\n",
    "        label_fake = tf.zeros_like(label_real)\n",
    "\n",
    "        # train discriminator\n",
    "        z = tf.random.normal((batch_size, 100))\n",
    "        generated_image = labeled_generator.predict([z, labels])\n",
    "        d_loss_real = labeled_discriminator.train_on_batch([images, labels], label_real)\n",
    "        d_loss_fake = labeled_discriminator.train_on_batch([generated_image, labels], label_fake)\n",
    "        d_loss = d_loss_real + d_loss_fake\n",
    "        d_losses.append(d_loss)\n",
    "\n",
    "        # train generator\n",
    "        z = tf.random.normal((batch_size, 100))\n",
    "        g_loss = labeled_gan.train_on_batch([z, labels], label_real)\n",
    "        g_losses.append(g_loss)\n",
    "    # show progress\n",
    "    display.clear_output(wait=True)\n",
    "    print ('Time for epoch {} is {} sec - d_loss: {} g_loss: {}'.format(epoch + 1, time.time()-start, np.mean(d_losses), np.mean(g_losses)))\n",
    "    generated_images = labeled_generator.predict([test_z, test_label])\n",
    "    plt.figure(figsize=(20, 2))\n",
    "    for i, img in enumerate(generated_images):\n",
    "        plt.subplot(1, 10, i + 1)\n",
    "        plt.imshow(img[:, :, 0] * 127.5 + 127.5, cmap='gray')\n",
    "        plt.axis('off')\n",
    "    plt.show()"
   ]
  }
 ],
 "metadata": {
  "kernelspec": {
   "display_name": "Python 3",
   "language": "python",
   "name": "python3"
  },
  "language_info": {
   "codemirror_mode": {
    "name": "ipython",
    "version": 3
   },
   "file_extension": ".py",
   "mimetype": "text/x-python",
   "name": "python",
   "nbconvert_exporter": "python",
   "pygments_lexer": "ipython3",
   "version": "3.6.9"
  }
 },
 "nbformat": 4,
 "nbformat_minor": 2
}
